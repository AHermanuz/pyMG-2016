{
 "cells": [
  {
   "cell_type": "markdown",
   "metadata": {},
   "source": [
    "<center> \n",
    "<h1> Mehrgittermethoden </h1> \n",
    "<h2> Übungsaufgaben </h2>\n",
    "<h3> Robert Speck & Dieter Moser, Sommersemester 2016 </h3>\n",
    "</center>\n",
    "___\n"
   ]
  },
  {
   "cell_type": "markdown",
   "metadata": {},
   "source": [
    "### Über Systemmatrizen\n",
    "\n",
    "In der Vorlesung haben wir das Gleichungssytem $Au = f$ für das Possion-Problem in 1D mit Dirichlet-Rändern durch eine Diskretisierung mit Hilfe von zentrierten Finiten Differenzen aufgestellt.\n",
    "1. Wie sieht das System für periodische Randbedingungen $u(0) = u(1)$ und $u'(0) = u'(1)$ aus? Nutzen Sie die Gitterpunkte $x_0$, $x_1$, ..., $x_{N-1}$. Wie viele Unbekannte hat das Gleichungsssystem?\n",
    "1. Wie sieht das System mit Dirichlet-Rändern in zwei Dimensionen aus? Nutzen Sie Blockmatrizen zur Darstellung von $A$. Wie viele Unbekannte hat das System nun und wie viele Einträge ungleich Null hat die Systemmatrix?\n",
    "___"
   ]
  }
 ],
 "metadata": {
  "kernelspec": {
   "display_name": "Python 2",
   "language": "python",
   "name": "python2"
  },
  "language_info": {
   "codemirror_mode": {
    "name": "ipython",
    "version": 2
   },
   "file_extension": ".py",
   "mimetype": "text/x-python",
   "name": "python",
   "nbconvert_exporter": "python",
   "pygments_lexer": "ipython2",
   "version": "2.7.11"
  }
 },
 "nbformat": 4,
 "nbformat_minor": 0
}
